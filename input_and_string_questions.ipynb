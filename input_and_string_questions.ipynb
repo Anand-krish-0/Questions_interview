{
 "cells": [
  {
   "cell_type": "markdown",
   "metadata": {},
   "source": [
    "1. Write a Python program that asks the user to enter their name and age, and then prints out a message that says \"Hello, [name]! You are [age] years old.\""
   ]
  },
  {
   "cell_type": "code",
   "execution_count": 1,
   "metadata": {},
   "outputs": [
    {
     "name": "stdout",
     "output_type": "stream",
     "text": [
      "Hello, Anand! You are 22 years old.\n"
     ]
    }
   ],
   "source": [
    "name=str(input(\"Enter the name;\"))\n",
    "age=int(input(\"Enter the age:\"))\n",
    "print(f\"Hello, {name}! You are {age} years old.\")"
   ]
  },
  {
   "cell_type": "markdown",
   "metadata": {},
   "source": [
    "2. Write a Python program that calculates the area of a rectangle. The program should ask the user to enter the length and width of the rectangle, and then print out the area."
   ]
  },
  {
   "cell_type": "code",
   "execution_count": 2,
   "metadata": {},
   "outputs": [
    {
     "name": "stdout",
     "output_type": "stream",
     "text": [
      "area : 20\n"
     ]
    }
   ],
   "source": [
    "l=int(input(\"Enter the length:\"))\n",
    "w=int(input(\"Enter the width:\"))\n",
    "area=l*w\n",
    "print(f\"area : {area}\")"
   ]
  },
  {
   "cell_type": "markdown",
   "metadata": {},
   "source": [
    "3. Write a Python program that asks the user to enter a string, and then prints out the length of the string."
   ]
  },
  {
   "cell_type": "code",
   "execution_count": 4,
   "metadata": {},
   "outputs": [
    {
     "name": "stdout",
     "output_type": "stream",
     "text": [
      "length of the given string is 8\n"
     ]
    }
   ],
   "source": [
    "string=input(\"Enter the string:\")\n",
    "length=len(string)\n",
    "print(f\"length of the given string is {length}\")"
   ]
  },
  {
   "cell_type": "markdown",
   "metadata": {},
   "source": [
    "4. Write a Python program that asks the user to enter two numbers, and then prints out whether the first number is greater than, less than, or equal to the second number."
   ]
  },
  {
   "cell_type": "code",
   "execution_count": 5,
   "metadata": {},
   "outputs": [
    {
     "name": "stdout",
     "output_type": "stream",
     "text": [
      "The first number (54.0) is greater than the second number (3.0).\n"
     ]
    }
   ],
   "source": [
    "num1 = float(input(\"Enter the first number: \"))\n",
    "num2 = float(input(\"Enter the second number: \"))\n",
    "if num1 > num2:\n",
    "    print(f\"The first number ({num1}) is greater than the second number ({num2}).\")\n",
    "elif num1 < num2:\n",
    "    print(f\"The first number ({num1}) is less than the second number ({num2}).\")\n",
    "else:\n",
    "    print(f\"The first number ({num1}) is equal to the second number ({num2}).\")\n"
   ]
  },
  {
   "cell_type": "markdown",
   "metadata": {},
   "source": [
    "5. Write a Python program that asks the user to enter a string, and then prints out the string in reverse order."
   ]
  },
  {
   "cell_type": "code",
   "execution_count": 7,
   "metadata": {},
   "outputs": [
    {
     "name": "stdout",
     "output_type": "stream",
     "text": [
      "The reversed string is dnana\n"
     ]
    }
   ],
   "source": [
    "string=input(\"Enter the string:\")\n",
    "reverse=string[::-1]\n",
    "print(f\"The reversed string is {reverse}\")"
   ]
  },
  {
   "cell_type": "markdown",
   "metadata": {},
   "source": [
    "6. Write a Python program that asks the user to enter a number, and then prints out whether the number is even or odd."
   ]
  },
  {
   "cell_type": "code",
   "execution_count": 11,
   "metadata": {},
   "outputs": [
    {
     "name": "stdout",
     "output_type": "stream",
     "text": [
      "The number is odd\n"
     ]
    }
   ],
   "source": [
    "number=int(input(\"Enter the number:\"))\n",
    "if number%2==1:\n",
    "    print(\"The number is odd\")\n",
    "else:\n",
    "    print(\"The number is even\")\n"
   ]
  },
  {
   "cell_type": "markdown",
   "metadata": {},
   "source": [
    "7. Write a Python program that asks the user to enter a temperature in Fahrenheit, and then converts it to Celsius. The formula for converting Fahrenheit to Celsius is (F - 32) * 5/9."
   ]
  },
  {
   "cell_type": "code",
   "execution_count": 12,
   "metadata": {},
   "outputs": [
    {
     "name": "stdout",
     "output_type": "stream",
     "text": [
      "The celsius is 18.333333333333332\n"
     ]
    }
   ],
   "source": [
    "F=int(input(\"Enter the fahrenheit:\"))\n",
    "c=(F-32)*5/9\n",
    "print(f\"The celsius is {c}\")"
   ]
  },
  {
   "cell_type": "markdown",
   "metadata": {},
   "source": [
    "8. Write a Python program that calculates the average of three numbers. The program should ask the user to enter three numbers, and then print out their average."
   ]
  },
  {
   "cell_type": "code",
   "execution_count": 14,
   "metadata": {},
   "outputs": [
    {
     "name": "stdout",
     "output_type": "stream",
     "text": [
      "The average of the three numbers is: 40.0\n"
     ]
    }
   ],
   "source": [
    "num1 = float(input(\"Enter the first number: \"))\n",
    "num2 = float(input(\"Enter the second number: \"))\n",
    "num3 = float(input(\"Enter the third number: \"))\n",
    "average = (num1 + num2 + num3) / 3\n",
    "print(f\"The average of the three numbers is: {average}\")\n"
   ]
  },
  {
   "cell_type": "markdown",
   "metadata": {},
   "source": [
    "9. Write a Python program that asks the user to enter a string, and then checks if the string contains the letter \"e\". If the string contains \"e\", print out a message that says \"The string contains the letter e.\" If the string does not contain \"e\", print out a message that says \"The string does not contain the letter e.\""
   ]
  },
  {
   "cell_type": "code",
   "execution_count": 15,
   "metadata": {},
   "outputs": [
    {
     "name": "stdout",
     "output_type": "stream",
     "text": [
      "The string contains the letter e.\n"
     ]
    }
   ],
   "source": [
    "user_string = input(\"Enter a string: \")\n",
    "if 'e' in user_string:\n",
    "    print(\"The string contains the letter e.\")\n",
    "else:\n",
    "    print(\"The string does not contain the letter e.\")\n"
   ]
  },
  {
   "cell_type": "markdown",
   "metadata": {},
   "source": [
    "10. Write a Python program that asks the user to enter a password. If the password contains less than 8 characters, print out a message that says \"Password too short.\" If the password contains 8 or more characters, print out a message that says \"Password accepted.\""
   ]
  },
  {
   "cell_type": "code",
   "execution_count": 19,
   "metadata": {},
   "outputs": [
    {
     "name": "stdout",
     "output_type": "stream",
     "text": [
      "Password is too short\n"
     ]
    }
   ],
   "source": [
    "password=str(input())\n",
    "if len(password)<8:\n",
    "    print(\"Password is too short\")\n",
    "else:\n",
    "    print(\"The paasword accepted\")"
   ]
  },
  {
   "cell_type": "markdown",
   "metadata": {},
   "source": [
    "11. Write a Python program that asks the user to enter a number between 1 and 10. If the user enters a number outside of this range, print out a message that says \"Invalid input.\" If the user enters a number within this range, print out a message that says \"Valid input.\""
   ]
  },
  {
   "cell_type": "code",
   "execution_count": 31,
   "metadata": {},
   "outputs": [
    {
     "name": "stdout",
     "output_type": "stream",
     "text": [
      "valid input\n"
     ]
    }
   ],
   "source": [
    "num=int(input(\"Enter the number between 1 and 10:\"))\n",
    "if num in range(1,11):\n",
    "    print(\"valid input\")\n",
    "else:\n",
    "    print(\"invalid input\")"
   ]
  },
  {
   "cell_type": "markdown",
   "metadata": {},
   "source": [
    "10. Write a Python program that asks the user to enter a sentence, and then counts the number of words in the sentence."
   ]
  },
  {
   "cell_type": "code",
   "execution_count": 34,
   "metadata": {},
   "outputs": [
    {
     "name": "stdout",
     "output_type": "stream",
     "text": [
      "The number of words in the sentence is: 3\n"
     ]
    }
   ],
   "source": [
    "# Ask the user to enter a sentence\n",
    "sentence = input(\"Enter a sentence: \")\n",
    "\n",
    "# Split the sentence into words\n",
    "words = sentence.split()\n",
    "\n",
    "# Count the number of words\n",
    "num_words = len(words)\n",
    "\n",
    "# Print out the number of words\n",
    "print(f\"The number of words in the sentence is: {num_words}\")\n"
   ]
  },
  {
   "cell_type": "markdown",
   "metadata": {},
   "source": [
    "11. Write a Python program that asks the user to enter a string, and then prints out the string with all the vowels replaced by the letter \"x\"."
   ]
  },
  {
   "cell_type": "code",
   "execution_count": 35,
   "metadata": {},
   "outputs": [
    {
     "name": "stdout",
     "output_type": "stream",
     "text": [
      "The modified string is: kxmxrx\n"
     ]
    }
   ],
   "source": [
    "user_string = input(\"Enter a string: \")\n",
    "vowels = \"aeiouAEIOU\"\n",
    "modified_string = ''.join('x' if char in vowels else char for char in user_string)\n",
    "print(\"The modified string is:\", modified_string)\n"
   ]
  },
  {
   "cell_type": "markdown",
   "metadata": {},
   "source": [
    "12. Write a Python program that asks the user to enter a number, and then checks if the number is a multiple of 3. If the number is a multiple of 3, print out a message that says \"The number is a multiple of 3.\" If the number is not a multiple of 3, print out a message that says \"The number is not a multiple of 3.\""
   ]
  },
  {
   "cell_type": "code",
   "execution_count": 36,
   "metadata": {},
   "outputs": [
    {
     "name": "stdout",
     "output_type": "stream",
     "text": [
      "The number is not a multiple of 3.\n"
     ]
    }
   ],
   "source": [
    "number = int(input(\"Enter a number: \"))\n",
    "if number % 3 == 0:\n",
    "    print(\"The number is a multiple of 3.\")\n",
    "else:\n",
    "    print(\"The number is not a multiple of 3.\")\n"
   ]
  },
  {
   "cell_type": "markdown",
   "metadata": {},
   "source": [
    "13. Write a Python program that asks the user to enter a string, and then checks if the string starts with the letter \"a\". If the string starts with \"a\", print out a message that says \"The string starts with the letter a.\" If the string does not start with \"a\", print out a message that says \"The string does not start with the letter a.\""
   ]
  },
  {
   "cell_type": "code",
   "execution_count": 39,
   "metadata": {},
   "outputs": [
    {
     "name": "stdout",
     "output_type": "stream",
     "text": [
      "The string starts with the letter a\n"
     ]
    }
   ],
   "source": [
    "str=input(\"Enter the string:\")\n",
    "if str[0]== 'a':\n",
    "    print(\"The string starts with the letter a\")\n",
    "else:\n",
    "    print(\"The string not starts with the letter a\")"
   ]
  },
  {
   "cell_type": "markdown",
   "metadata": {},
   "source": [
    "14. Write a Python program that asks the user to enter a number between 1 and 100. If the number is a multiple of both 3 and 5, print out a message that says \"FizzBuzz\". If the number is a multiple of only 3, print out a message that says \"Fizz\". If the number is a multiple of only 5, print out a message that says \"Buzz\". If the number is not a multiple of 3 or 5, print out the number itself."
   ]
  },
  {
   "cell_type": "code",
   "execution_count": 48,
   "metadata": {},
   "outputs": [
    {
     "name": "stdout",
     "output_type": "stream",
     "text": [
      "FizzBuzz\n"
     ]
    }
   ],
   "source": [
    "num=int(input(\"Enter the number between 1 and 100 :\"))\n",
    "if num%3==0 and num%5==0:\n",
    "    print(\"FizzBuzz\")\n",
    "elif num%3==0 and num%5!=0:\n",
    "    print(\"Fizz\")\n",
    "elif num%3!=0 and num%5==0:\n",
    "    print(\"Buzz\")\n",
    "else:\n",
    "    num%3!=0 and num%5!=0\n",
    "    print(num)\n"
   ]
  },
  {
   "cell_type": "markdown",
   "metadata": {},
   "source": [
    "\n",
    "15. Write a Python program that asks the user to enter a string, and then checks if the string is a palindrome (i.e. the same forwards and backwards) without using any built-in string methods."
   ]
  },
  {
   "cell_type": "code",
   "execution_count": 50,
   "metadata": {},
   "outputs": [
    {
     "name": "stdout",
     "output_type": "stream",
     "text": [
      "The string is not palindrome\n"
     ]
    }
   ],
   "source": [
    "string=input(\"Enter the string:\")\n",
    "if string==string[::-1]:\n",
    "    print(\"The string is palindrome\")\n",
    "else:\n",
    "    print(\"The string is not palindrome\")"
   ]
  },
  {
   "cell_type": "markdown",
   "metadata": {},
   "source": [
    "17. Write a Python program that asks the user to enter a password. If the password is \"password123\", print out a message that says \"Access granted.\" If the password is anything else, print out a message that says \"Access denied.\""
   ]
  },
  {
   "cell_type": "code",
   "execution_count": 52,
   "metadata": {},
   "outputs": [
    {
     "name": "stdout",
     "output_type": "stream",
     "text": [
      "Access granted\n"
     ]
    }
   ],
   "source": [
    "password=input(\"Enter the password: \")\n",
    "if password=='password123':\n",
    "    print(\"Access granted\")\n",
    "else: \n",
    "    print(\"Access denied\")"
   ]
  },
  {
   "cell_type": "markdown",
   "metadata": {},
   "source": [
    "18. Write a Python program that asks the user to enter a number, and then prints out whether the number is positive, negative, or zero."
   ]
  },
  {
   "cell_type": "code",
   "execution_count": 53,
   "metadata": {},
   "outputs": [
    {
     "name": "stdout",
     "output_type": "stream",
     "text": [
      "The number is positive.\n"
     ]
    }
   ],
   "source": [
    "number = float(input(\"Enter a number: \"))\n",
    "if number > 0:\n",
    "    print(\"The number is positive.\")\n",
    "elif number < 0:\n",
    "    print(\"The number is negative.\")\n",
    "else:\n",
    "    print(\"The number is zero.\")\n"
   ]
  },
  {
   "cell_type": "markdown",
   "metadata": {},
   "source": [
    "19. Write a Python program that asks the user to enter a string, and then prints out whether the string is a palindrome (i.e. the same forwards and backwards)."
   ]
  },
  {
   "cell_type": "code",
   "execution_count": null,
   "metadata": {},
   "outputs": [],
   "source": []
  }
 ],
 "metadata": {
  "kernelspec": {
   "display_name": "Python 3",
   "language": "python",
   "name": "python3"
  },
  "language_info": {
   "codemirror_mode": {
    "name": "ipython",
    "version": 3
   },
   "file_extension": ".py",
   "mimetype": "text/x-python",
   "name": "python",
   "nbconvert_exporter": "python",
   "pygments_lexer": "ipython3",
   "version": "3.12.4"
  }
 },
 "nbformat": 4,
 "nbformat_minor": 2
}
