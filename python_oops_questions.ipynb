{
 "cells": [
  {
   "cell_type": "markdown",
   "metadata": {},
   "source": [
    "2. Create a class called Circle with attribute radius. Implement methods to calculate the area and circumference of the circle."
   ]
  },
  {
   "cell_type": "code",
   "execution_count": 25,
   "metadata": {},
   "outputs": [
    {
     "name": "stdout",
     "output_type": "stream",
     "text": [
      "Radius is : 6\n",
      "Area is  113.14285714285714\n",
      "Circumference is  37.714285714285715\n"
     ]
    }
   ],
   "source": [
    "class circle:\n",
    "    def area(self,radius):\n",
    "        self.radius=radius\n",
    "        print(\"Area is \",((22/7)*(radius**2)))\n",
    "    def circumference(self,radius):\n",
    "        print(\"Circumference is \",2*(22/7)*radius)\n",
    "n=int(input(\"Enter the Radius:\"))\n",
    "print(\"Radius is :\",n)\n",
    "c_radius=circle()\n",
    "c_radius.area(n)\n",
    "c_radius=circle()\n",
    "c_radius.circumference(n)"
   ]
  },
  {
   "cell_type": "markdown",
   "metadata": {},
   "source": [
    "3. Create a class called Employee with attributes name, age, and salary. Implement a method called increase_salary that takes a percentage increase as input and updates the employee's salary accordingly."
   ]
  },
  {
   "cell_type": "code",
   "execution_count": 24,
   "metadata": {},
   "outputs": [
    {
     "name": "stdout",
     "output_type": "stream",
     "text": [
      "Anand 22 20000 5\n",
      "Incremented salary is : 21000.0\n"
     ]
    }
   ],
   "source": [
    "class Employee:\n",
    "    def info(self,name,age,salary,percentage):\n",
    "        self.name=name\n",
    "        self.age=age\n",
    "        self.salary=salary\n",
    "        self.percentage=percentage\n",
    "        print(name,age,salary,percentage)\n",
    "    def increase_salary(self,salary,percentage):\n",
    "        self.salary=salary\n",
    "        self.percentage=percentage\n",
    "        print(\"Incremented salary is :\", self.salary+(self.salary*(self.percentage/100)))\n",
    "\n",
    "n=int(input(\"Enter the percentage:\"))\n",
    "person=Employee()\n",
    "person.info(\"Anand\",22,20000,n)\n",
    "increment=Employee()\n",
    "increment.increase_salary(20000,n)\n",
    "\n",
    "\n"
   ]
  },
  {
   "cell_type": "markdown",
   "metadata": {},
   "source": [
    "3. Create a class called BankAccount with attributes account_number, holder_name, and balance. Implement methods to deposit and withdraw funds from the account."
   ]
  },
  {
   "cell_type": "code",
   "execution_count": 2,
   "metadata": {},
   "outputs": [
    {
     "name": "stdout",
     "output_type": "stream",
     "text": [
      "Acc_num: aoo1\n",
      "Name: Anand\n",
      "Balance: 23000\n",
      "Deposited 2000. New balance is 25000.\n",
      "Withdrew 1000. New balance is 24000.\n"
     ]
    }
   ],
   "source": [
    "class BankAccount:\n",
    "    def Account(self,account_number,holder_name,initial_balance=0):\n",
    "        self.account_number=account_number\n",
    "        self.holder_name=holder_name\n",
    "        self.balance=initial_balance\n",
    "        print(\"Acc_num:\",account_number)\n",
    "        print(\"Name:\",holder_name)\n",
    "        print(\"Balance:\",initial_balance)\n",
    "    def deposit(self,amount):\n",
    "        self.amount=amount\n",
    "        if amount>0:\n",
    "            self.balance = self.balance + amount\n",
    "            print(f\"Deposited {amount}. New balance is {self.balance}.\")\n",
    "        else:\n",
    "            print(\"Deposited amount must be positive\")\n",
    "\n",
    "    def withdraw(self,amount):\n",
    "        if amount>0:\n",
    "            if amount <= self.balance:\n",
    "                self.balance = self.balance - amount\n",
    "                print(f\"Withdrew {amount}. New balance is {self.balance}.\")\n",
    "            else:\n",
    "                print(\"Insufficient funds\")\n",
    "        else:\n",
    "            print(\"Withdrawal amount must be positive\")\n",
    "\n",
    "\n",
    "holder_detials=BankAccount()\n",
    "holder_detials.Account(\"aoo1\",\"Anand\",23000)\n",
    "dep=int(input(\"Enter the deposite amount:\"))\n",
    "holder_detials.deposit(dep)\n",
    "withd=int(input(\"Enter the withdrawal amount:\"))\n",
    "holder_detials.withdraw(withd)\n",
    "        \n",
    "        "
   ]
  },
  {
   "cell_type": "markdown",
   "metadata": {},
   "source": [
    "4. Create a class called Car with attributes  model, and year. Implement a method called start_engine that prints a message indicating the car has started."
   ]
  },
  {
   "cell_type": "code",
   "execution_count": null,
   "metadata": {},
   "outputs": [
    {
     "ename": "",
     "evalue": "",
     "output_type": "error",
     "traceback": [
      "\u001b[1;31mFailed to start the Kernel. \n",
      "\u001b[1;31mUnable to start Kernel 'Python 3.12.4' due to a timeout waiting for the ports to get used. \n",
      "\u001b[1;31mView Jupyter <a href='command:jupyter.viewOutput'>log</a> for further details."
     ]
    }
   ],
   "source": [
    "class Car:\n",
    "    def star_engine(self,model,year):\n",
    "        self.model=model\n",
    "        self.year=year\n",
    "        print(f\"Welcom to the car {model}, Year {year}.\",\n",
    "              \"Enjoy the ride...Car is started..\")\n",
    "\n",
    "car=Car()\n",
    "car.star_engine(\"XUV\",2024)\n"
   ]
  },
  {
   "cell_type": "code",
   "execution_count": null,
   "metadata": {},
   "outputs": [],
   "source": [
    "class Car:\n",
    "    def __init__(self, model, year):\n",
    "        self.model = model\n",
    "        self.year = year\n",
    "\n",
    "    def start_engine(self):\n",
    "        print(f\"The {self.year} {self.model}'s engine has started.\")\n",
    "\n",
    "# Example usage:\n",
    "my_car = Car(\"Toyota Camry\", 2022)\n",
    "my_car.start_engine()\n"
   ]
  },
  {
   "cell_type": "markdown",
   "metadata": {},
   "source": [
    "1. Create a class called Rectangle with attributes length and width. Implement methods to calculate the area and perimeter of the rectangle."
   ]
  },
  {
   "cell_type": "code",
   "execution_count": 29,
   "metadata": {},
   "outputs": [
    {
     "name": "stdout",
     "output_type": "stream",
     "text": [
      "Area of the rectangle: 200\n",
      "Perimeter of the rectangle: 60\n"
     ]
    }
   ],
   "source": [
    "class Rectangle:\n",
    "    def area(self,length,width):\n",
    "        self.length=length\n",
    "        self.width=width\n",
    "        print(\"Area of the rectangle:\",self.length*self.width)\n",
    "\n",
    "    def perimeter(self):\n",
    "        print(\"Perimeter of the rectangle:\",2*(self.length+self.width))\n",
    "\n",
    "obj_1=Rectangle()\n",
    "obj_1.area(10,20)\n",
    "obj_1.perimeter()"
   ]
  },
  {
   "cell_type": "markdown",
   "metadata": {},
   "source": [
    "5. Create a class called Student with attributes name, age, and grades (a list of integers). Implement methods to calculate the average grade and determine if the student has passed (average grade >= 60)."
   ]
  },
  {
   "cell_type": "code",
   "execution_count": 16,
   "metadata": {},
   "outputs": [
    {
     "name": "stdout",
     "output_type": "stream",
     "text": [
      "Average Grade: 77.00\n",
      "Has Passed: Yes\n"
     ]
    }
   ],
   "source": [
    "class Student:\n",
    "    def __init__(self, name, age, grades):\n",
    "        self.name = name\n",
    "        self.age = age\n",
    "        self.grades = grades\n",
    "\n",
    "    def calculate_average(self):\n",
    "        if not self.grades:\n",
    "            return 0\n",
    "        return sum(self.grades) / len(self.grades)\n",
    "\n",
    "    def has_passed(self):\n",
    "        average_grade = self.calculate_average()\n",
    "        return average_grade >= 60\n",
    "\n",
    "# Example usage:\n",
    "student = Student(\"John Doe\", 20, [85, 78, 92, 56, 74])\n",
    "print(f\"Average Grade: {student.calculate_average():.2f}\")\n",
    "print(f\"Has Passed: {'Yes' if student.has_passed() else 'No'}\")\n"
   ]
  },
  {
   "cell_type": "code",
   "execution_count": 5,
   "metadata": {},
   "outputs": [
    {
     "name": "stdout",
     "output_type": "stream",
     "text": [
      "Alice's average grade is 76.75\n",
      "Has Alice passed? Yes\n"
     ]
    }
   ],
   "source": [
    "class Student:\n",
    "    def __init__(self, name, age, grades):\n",
    "        self.name = name\n",
    "        self.age = age\n",
    "        self.grades = grades\n",
    "\n",
    "    def calculate_average(self):\n",
    "        if not self.grades:  # Check if the grades list is empty\n",
    "            return 0\n",
    "        return sum(self.grades) / len(self.grades)\n",
    "\n",
    "    def has_passed(self):\n",
    "        return self.calculate_average() >= 60\n",
    "\n",
    "# Example usage:\n",
    "student = Student(\"Alice\", 20, [75, 82, 90, 60])\n",
    "average = student.calculate_average()\n",
    "passed = student.has_passed()\n",
    "\n",
    "print(f\"{student.name}'s average grade is {average:.2f}\")\n",
    "print(f\"Has {student.name} passed? {'Yes' if passed else 'No'}\")\n"
   ]
  },
  {
   "cell_type": "markdown",
   "metadata": {},
   "source": [
    "6. Create a class called Book with attributes title, author, and year. Implement a method called get_age that returns the age of the book (current year - publication year)."
   ]
  },
  {
   "cell_type": "code",
   "execution_count": 18,
   "metadata": {},
   "outputs": [
    {
     "name": "stdout",
     "output_type": "stream",
     "text": [
      "The book Ponniyin selvan was written by Kalki and age of the book is 70\n"
     ]
    }
   ],
   "source": [
    "#self made\n",
    "class Book:\n",
    "    def __init__(self,title,author,year):\n",
    "        self.title=title\n",
    "        self.author=author\n",
    "        self.year=year\n",
    "\n",
    "    def get_age(self):\n",
    "        current_year=2024\n",
    "        book_age= current_year-self.year\n",
    "        print(f\"The book {self.title} was written by {self.author} and age of the book is {book_age}\")\n",
    "\n",
    "book_info=Book(\"Ponniyin selvan\",\"Kalki\",1954)\n",
    "book_info.get_age()"
   ]
  },
  {
   "cell_type": "code",
   "execution_count": 16,
   "metadata": {},
   "outputs": [
    {
     "name": "stdout",
     "output_type": "stream",
     "text": [
      "The book '1984' by George Orwell is 75 years old.\n"
     ]
    }
   ],
   "source": [
    "class Book:\n",
    "    def __init__(self, title, author, year):\n",
    "        self.title = title\n",
    "        self.author = author\n",
    "        self.year = year\n",
    "\n",
    "    def get_age(self):\n",
    "        current_year = 2024  # you can use datetime module to get the current year dynamically\n",
    "        return current_year - self.year\n",
    "\n",
    "# Example usage:\n",
    "my_book = Book(\"1984\", \"George Orwell\", 1949)\n",
    "print(f\"The book '{my_book.title}' by {my_book.author} is {my_book.get_age()} years old.\")\n"
   ]
  },
  {
   "cell_type": "code",
   "execution_count": 15,
   "metadata": {},
   "outputs": [
    {
     "name": "stdout",
     "output_type": "stream",
     "text": [
      "The book '1984' by George Orwell is 75 years old.\n"
     ]
    }
   ],
   "source": [
    "import datetime\n",
    "\n",
    "class Book:\n",
    "    def __init__(self, title, author, year):\n",
    "        self.title = title\n",
    "        self.author = author\n",
    "        self.year = year\n",
    "\n",
    "    def get_age(self):\n",
    "        current_year = datetime.datetime.now().year\n",
    "        return current_year - self.year\n",
    "\n",
    "# Example usage:\n",
    "my_book = Book(\"1984\", \"George Orwell\", 1949)\n",
    "print(f\"The book '{my_book.title}' by {my_book.author} is {my_book.get_age()} years old.\")\n"
   ]
  },
  {
   "cell_type": "markdown",
   "metadata": {},
   "source": [
    "7. Create a class called Shape with an abstract method called calculate_area. Create two subclasses Rectangle and Triangle that inherit from Shape and implement the calculate_area method accordingly."
   ]
  },
  {
   "cell_type": "code",
   "execution_count": 11,
   "metadata": {},
   "outputs": [
    {
     "name": "stdout",
     "output_type": "stream",
     "text": [
      "The area of the rectangle is 50.\n",
      "The area of the rectangle is 30.\n",
      "The area of the triangle is 16.0.\n"
     ]
    }
   ],
   "source": [
    "\n",
    "\n",
    "class Shape:\n",
    "    def calculate_area(self):\n",
    "        pass\n",
    "\n",
    "class Rectangle(Shape):\n",
    "    def __init__(self, width, height):\n",
    "        self.width = width\n",
    "        self.height = height\n",
    "\n",
    "    def calculate_area(self):\n",
    "        return self.width * self.height\n",
    "    def Calculate_perimeter(self):\n",
    "        return 2*(self.width + self.height)\n",
    "\n",
    "class Triangle(Shape):\n",
    "    def __init__(self, base, height):\n",
    "        self.base = base\n",
    "        self.height = height\n",
    "\n",
    "    def calculate_area(self):\n",
    "        return 0.5 * self.base * self.height\n",
    "\n",
    "# Example usage:\n",
    "rectangle = Rectangle(5, 10)\n",
    "triangle = Triangle(4, 8)\n",
    "\n",
    "print(f\"The area of the rectangle is {rectangle.calculate_area()}.\")\n",
    "print(f\"The area of the rectangle is {rectangle.Calculate_perimeter()}.\")\n",
    "print(f\"The area of the triangle is {triangle.calculate_area()}.\")\n"
   ]
  },
  {
   "cell_type": "markdown",
   "metadata": {},
   "source": [
    "8. Create a class called Person with attributes name and address. Create a subclass Student that inherits from Person and adds an attribute student_id. Implement a method in the Student class to display student information."
   ]
  },
  {
   "cell_type": "code",
   "execution_count": 14,
   "metadata": {},
   "outputs": [
    {
     "name": "stdout",
     "output_type": "stream",
     "text": [
      "Student_name: Anand\n",
      "Student_address: 38, maruthuvar colony, karambakkudi\n",
      "Student_id: 19BMA114\n"
     ]
    }
   ],
   "source": [
    "class Person:\n",
    "    def __init__(self, name, address):\n",
    "        self.name=name\n",
    "        self.address=address\n",
    "\n",
    "class Student(Person):\n",
    "    def __init__(self,name, address, student_id):\n",
    "        super().__init__(name,address)\n",
    "        self.student_id=student_id\n",
    "\n",
    "    def display(self):\n",
    "        print(f\"Student_name: {self.name}\")\n",
    "        print(f\"Student_address: {self.address}\")\n",
    "        print(f\"Student_id: {self.student_id}\")\n",
    "\n",
    "student_info=Student(\"Anand\",\"38, maruthuvar colony, karambakkudi\",\"19BMA114\")\n",
    "student_info.display()\n",
    "\n"
   ]
  },
  {
   "cell_type": "markdown",
   "metadata": {},
   "source": [
    "9. Create a class called Bank with a dictionary attribute accounts, where the keys are account numbers and the values are instances of a BankAccount class. Implement methods to add accounts, retrieve account information, and perform transactions like deposit and withdrawal."
   ]
  },
  {
   "cell_type": "code",
   "execution_count": 15,
   "metadata": {},
   "outputs": [
    {
     "name": "stdout",
     "output_type": "stream",
     "text": [
      "Account 123456 created for Alice Smith with balance $500.\n",
      "Account 789012 created for Bob Johnson with balance $1000.\n",
      "Account Number: 123456, Holder Name: Alice Smith, Balance: $500\n",
      "Deposited $200. New balance is $700.\n",
      "Withdrew $150. New balance is $550.\n",
      "Account Number: 123456, Holder Name: Alice Smith, Balance: $550\n"
     ]
    }
   ],
   "source": [
    "class BankAccount:\n",
    "    def __init__(self, account_number, holder_name, balance=0):\n",
    "        self.account_number = account_number\n",
    "        self.holder_name = holder_name\n",
    "        self.balance = balance\n",
    "\n",
    "    def deposit(self, amount):\n",
    "        if amount > 0:\n",
    "            self.balance += amount\n",
    "            print(f\"Deposited ${amount}. New balance is ${self.balance}.\")\n",
    "        else:\n",
    "            print(\"Deposit amount must be positive.\")\n",
    "\n",
    "    def withdraw(self, amount):\n",
    "        if 0 < amount <= self.balance:\n",
    "            self.balance -= amount\n",
    "            print(f\"Withdrew ${amount}. New balance is ${self.balance}.\")\n",
    "        else:\n",
    "            print(\"Insufficient balance or invalid withdrawal amount.\")\n",
    "\n",
    "    def get_info(self):\n",
    "        return f\"Account Number: {self.account_number}, Holder Name: {self.holder_name}, Balance: ${self.balance}\"\n",
    "\n",
    "class Bank:\n",
    "    def __init__(self):\n",
    "        self.accounts = {}\n",
    "\n",
    "    def add_account(self, account_number, holder_name, initial_balance=0):\n",
    "        if account_number in self.accounts:\n",
    "            print(\"Account number already exists.\")\n",
    "        else:\n",
    "            new_account = BankAccount(account_number, holder_name, initial_balance)\n",
    "            self.accounts[account_number] = new_account\n",
    "            print(f\"Account {account_number} created for {holder_name} with balance ${initial_balance}.\")\n",
    "\n",
    "    def get_account_info(self, account_number):\n",
    "        account = self.accounts.get(account_number)\n",
    "        if account:\n",
    "            return account.get_info()\n",
    "        else:\n",
    "            return \"Account not found.\"\n",
    "\n",
    "    def deposit(self, account_number, amount):\n",
    "        account = self.accounts.get(account_number)\n",
    "        if account:\n",
    "            account.deposit(amount)\n",
    "        else:\n",
    "            print(\"Account not found.\")\n",
    "\n",
    "    def withdraw(self, account_number, amount):\n",
    "        account = self.accounts.get(account_number)\n",
    "        if account:\n",
    "            account.withdraw(amount)\n",
    "        else:\n",
    "            print(\"Account not found.\")\n",
    "\n",
    "# Example usage:\n",
    "bank = Bank()\n",
    "bank.add_account(\"123456\", \"Alice Smith\", 500)\n",
    "bank.add_account(\"789012\", \"Bob Johnson\", 1000)\n",
    "\n",
    "print(bank.get_account_info(\"123456\"))\n",
    "\n",
    "bank.deposit(\"123456\", 200)\n",
    "bank.withdraw(\"123456\", 150)\n",
    "\n",
    "print(bank.get_account_info(\"123456\"))\n"
   ]
  }
 ],
 "metadata": {
  "kernelspec": {
   "display_name": "Python 3",
   "language": "python",
   "name": "python3"
  },
  "language_info": {
   "codemirror_mode": {
    "name": "ipython",
    "version": 3
   },
   "file_extension": ".py",
   "mimetype": "text/x-python",
   "name": "python",
   "nbconvert_exporter": "python",
   "pygments_lexer": "ipython3",
   "version": "3.12.4"
  }
 },
 "nbformat": 4,
 "nbformat_minor": 2
}
