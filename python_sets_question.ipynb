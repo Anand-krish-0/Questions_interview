{
 "cells": [
  {
   "cell_type": "markdown",
   "metadata": {},
   "source": [
    "1. What is a set in Python and what are its key characteristics?\n"
   ]
  },
  {
   "cell_type": "markdown",
   "metadata": {},
   "source": [
    "Sets are used to store multiple items in a single variable.\n",
    "\n",
    "Set is one of 4 built-in data types in Python used to store collections of data, the other 3 are List, Tuple, and Dictionary, all with different qualities and usage.\n",
    "\n",
    "A set is a collection which is unordered, unchangeable*, and unindexed.\n",
    "\n",
    "* Note: Set items are unchangeable, but you can remove items and add new items."
   ]
  },
  {
   "cell_type": "markdown",
   "metadata": {},
   "source": [
    "2. How do you create an empty set in Python?"
   ]
  },
  {
   "cell_type": "markdown",
   "metadata": {},
   "source": [
    "To make an empty set in Python, use the set() function with no arguments; if we use empty curly brackets \"{ }\", we will get an empty dictionary."
   ]
  },
  {
   "cell_type": "markdown",
   "metadata": {},
   "source": [
    "3. Can a set contain duplicate elements in Python?\n"
   ]
  },
  {
   "cell_type": "markdown",
   "metadata": {},
   "source": [
    "The answer is no.\n",
    "Because Python's built-in set type has the following characteristics: Sets are unordered. Set elements are unique. Duplicate elements are not allowed."
   ]
  },
  {
   "cell_type": "markdown",
   "metadata": {},
   "source": [
    "4. How do you create a set with initial elements in Python?"
   ]
  },
  {
   "cell_type": "markdown",
   "metadata": {},
   "source": [
    "Python Sets can be created by using the built-in set() function with an iterable object or a sequence by placing the sequence inside curly braces, separated by a ‘comma’."
   ]
  },
  {
   "cell_type": "markdown",
   "metadata": {},
   "source": [
    "5. How do you add elements to a set in Python?"
   ]
  },
  {
   "cell_type": "markdown",
   "metadata": {},
   "source": [
    "You can add elements and tuples to a set by using the add() method. Since sets do not allow duplications, you can add the items only once. If you try to add the elements again, the function does not add anything to the set."
   ]
  },
  {
   "cell_type": "markdown",
   "metadata": {},
   "source": [
    "6. How do you remove elements from a set in Python?"
   ]
  },
  {
   "cell_type": "markdown",
   "metadata": {},
   "source": [
    "Remove items from Set using discard() Method\n",
    "Find the maximum element in the set using the max() function and remove it from the set using the discard() method. Print the updated set after each removal. Exit the loop when the set my_set becomes empty."
   ]
  },
  {
   "cell_type": "markdown",
   "metadata": {},
   "source": [
    "7. Can you access elements from a set using indexing in Python? Why or why not?"
   ]
  },
  {
   "cell_type": "markdown",
   "metadata": {},
   "source": [
    "Indexing or slicing cannot change or access an item of a set as a python set does not support it. We use the add() method to add a single element and update() method when multiple elements are to be added. The elements can be of the form lists, tuples, strings, or sets in the update() method."
   ]
  },
  {
   "cell_type": "markdown",
   "metadata": {},
   "source": [
    "8. How do you find the length of a set in Python?"
   ]
  },
  {
   "cell_type": "markdown",
   "metadata": {},
   "source": [
    "To determine how many items a set has, use the len() method."
   ]
  },
  {
   "cell_type": "markdown",
   "metadata": {},
   "source": [
    "9. Can you perform mathematical operations like union, intersection, and difference on sets in Python? If yes, how?"
   ]
  },
  {
   "cell_type": "markdown",
   "metadata": {},
   "source": [
    "In Python, a set is an unordered, mutable collection of unique elements. Mathematical set operations like union, intersection, and difference can be performed on them. Two different sets can be compared with the subset, superset, and disjoint relations. The members of a set must be hashable"
   ]
  },
  {
   "cell_type": "markdown",
   "metadata": {},
   "source": [
    "10. How do you check if an element exists in a set in Python?"
   ]
  },
  {
   "cell_type": "markdown",
   "metadata": {},
   "source": [
    "Using in operator\n",
    "This is an membership operator used to check whether the given value is present in set or not. It will return True if the given element is present in set , otherwise False."
   ]
  },
  {
   "cell_type": "markdown",
   "metadata": {},
   "source": [
    "11. What is the difference between a set and a frozenset in Python?"
   ]
  },
  {
   "cell_type": "markdown",
   "metadata": {},
   "source": [
    "Mutability: As mentioned earlier, set is mutable while frozenset is immutable. This means that we can add or remove elements from a set, but not from a frozenset. Memory usage: Since set is mutable, it requires more memory to store the elements as compared to frozenset, which is immutable and requires less memory."
   ]
  },
  {
   "cell_type": "markdown",
   "metadata": {},
   "source": [
    "12. How do you iterate over elements in a set using a for loop in Python?"
   ]
  },
  {
   "cell_type": "code",
   "execution_count": 1,
   "metadata": {},
   "outputs": [
    {
     "name": "stdout",
     "output_type": "stream",
     "text": [
      "E\n",
      "s\n",
      "k\n",
      "g\n",
      "e\n"
     ]
    }
   ],
   "source": [
    "# Creating a set using string\n",
    "test_set = set(\"geEks\")\n",
    " \n",
    "# Iterating using for loop\n",
    "for val in test_set:\n",
    "    print(val)"
   ]
  },
  {
   "cell_type": "markdown",
   "metadata": {},
   "source": [
    "13. Can a set contain elements of different data types in Python?"
   ]
  },
  {
   "cell_type": "markdown",
   "metadata": {},
   "source": [
    "A set can contain any number of things, and the elements can be of many types, such as integers, strings, tuples, and so on. A set, on the other hand, does not allow mutable elements such as a list, dictionary, and so on."
   ]
  },
  {
   "cell_type": "markdown",
   "metadata": {},
   "source": [
    "14. How do you check if two sets are equal in Python?"
   ]
  },
  {
   "cell_type": "markdown",
   "metadata": {},
   "source": [
    "By using “==” operator\n",
    "\n",
    "By using “all()”\n",
    "\n",
    "By using “issubset()”\n",
    "\n",
    "By using “symmetric_difference()"
   ]
  },
  {
   "cell_type": "markdown",
   "metadata": {},
   "source": [
    "15. How do you check if one set is a subset or superset of another set in Python?"
   ]
  },
  {
   "cell_type": "markdown",
   "metadata": {},
   "source": [
    "Python Set issubset() is a Python method that determines whether a given set is a subset of another. If the supplied set is present in the other set (passed in the argument), it returns True; otherwise, it returns False."
   ]
  },
  {
   "cell_type": "markdown",
   "metadata": {},
   "source": [
    "16. How do you create a shallow copy or clone of a set in Python?"
   ]
  },
  {
   "cell_type": "markdown",
   "metadata": {},
   "source": [
    "How do you copy a set in Python? Python has a built-in function called set copy() that is used to create a shallow copy of the desired set.\n"
   ]
  },
  {
   "cell_type": "markdown",
   "metadata": {},
   "source": [
    "17. How do you clear or empty a set in Python?"
   ]
  },
  {
   "cell_type": "markdown",
   "metadata": {},
   "source": [
    "Python Set clear() Method\n",
    "The clear() method removes all elements in a set."
   ]
  },
  {
   "cell_type": "markdown",
   "metadata": {},
   "source": [
    "18. Can you sort a set in Python? If not, why?"
   ]
  },
  {
   "cell_type": "markdown",
   "metadata": {},
   "source": [
    "No, Because set 's are unordered. They don't have an order."
   ]
  },
  {
   "cell_type": "markdown",
   "metadata": {},
   "source": [
    "19. How do you convert a set into a list or tuple in Python?"
   ]
  },
  {
   "cell_type": "markdown",
   "metadata": {},
   "source": [
    "Convert the set into a List in Python:\n",
    "\n",
    "1.Using list method.\n",
    "\n",
    "2. Using sorted() method.\n",
    "\n",
    "3. Using the map() function.\n",
    "\n",
    "4. Using list comprehension.\n",
    "\n",
    "5. Using [*set, ]\n",
    "\n",
    "6. Using list() constructor.\n",
    "\n",
    "7. Using copy and clear."
   ]
  },
  {
   "cell_type": "markdown",
   "metadata": {},
   "source": [
    "20. What are some common use cases or advantages of using sets in Python?"
   ]
  },
  {
   "cell_type": "markdown",
   "metadata": {},
   "source": [
    "Advantages of Set:\n",
    "Set can be used to store unique values in order to avoid duplications of elements present in the set.\n",
    "Elements in a set are stored in a sorted fashion which makes it efficient.\n",
    "Set are dynamic, so there is no error of overflowing of the set.\n",
    "Searching operation takes O(logN) time complexity."
   ]
  },
  {
   "cell_type": "code",
   "execution_count": null,
   "metadata": {},
   "outputs": [],
   "source": []
  }
 ],
 "metadata": {
  "kernelspec": {
   "display_name": "Python 3",
   "language": "python",
   "name": "python3"
  },
  "language_info": {
   "codemirror_mode": {
    "name": "ipython",
    "version": 3
   },
   "file_extension": ".py",
   "mimetype": "text/x-python",
   "name": "python",
   "nbconvert_exporter": "python",
   "pygments_lexer": "ipython3",
   "version": "3.12.4"
  }
 },
 "nbformat": 4,
 "nbformat_minor": 2
}
